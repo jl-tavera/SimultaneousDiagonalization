{
 "cells": [
  {
   "cell_type": "markdown",
   "metadata": {},
   "source": [
    "# **NUMERICAL METHODS FOR SIMULTANEOUS DIAGONALIZATION**"
   ]
  },
  {
   "cell_type": "markdown",
   "metadata": {},
   "source": [
    "Algorithm from Bunse-Gerstner, A., Byers, R., & Mehrmann, V. (1993). Numerical Methods for Simultaneous Diagonalization. SIAM Journal on Matrix Analysis and Applications, 14(4), 927–949. doi:10.1137/0614062 "
   ]
  },
  {
   "cell_type": "markdown",
   "metadata": {},
   "source": [
    "### **Libraries**"
   ]
  },
  {
   "cell_type": "code",
   "execution_count": 17,
   "metadata": {},
   "outputs": [],
   "source": [
    "import numpy as np \n",
    "from scipy.stats import ortho_group\n",
    "from functools import partial\n",
    "from scipy.optimize import minimize"
   ]
  },
  {
   "cell_type": "markdown",
   "metadata": {},
   "source": [
    "### **Matrix Functions**"
   ]
  },
  {
   "cell_type": "code",
   "execution_count": 13,
   "metadata": {},
   "outputs": [],
   "source": [
    "\n",
    "def normal_matrix(n):\n",
    "    '''\n",
    "    By generating a random orthonormal matrix and two random diagonal\n",
    "    matrix creates two normal matrix that commute\n",
    "    '''\n",
    "    Q = ortho_group.rvs(dim = n)\n",
    "    Q_transpose = np.transpose(Q)\n",
    "\n",
    "    vector_A = np.random.choice([-1,1],n)\n",
    "    vector_B = np.random.choice([-1,1],n)\n",
    "   \n",
    "    diag_A = np.diag(vector_A)\n",
    "    diag_B = np.diag(vector_B)\n",
    "\n",
    "    A = Q @ diag_A @ Q_transpose\n",
    "    B = Q @ diag_B @ Q_transpose\n",
    "\n",
    "    return A, B, Q"
   ]
  },
  {
   "cell_type": "markdown",
   "metadata": {},
   "source": [
    "### **Algorithm Functions**"
   ]
  },
  {
   "cell_type": "code",
   "execution_count": 28,
   "metadata": {},
   "outputs": [],
   "source": [
    "def off_2(A, B):\n",
    "    A_array = np.ravel(A)\n",
    "    A_diag = np.diag(A)\n",
    "    \n",
    "    B_array = np.ravel(B)\n",
    "    B_diag = np.diag(B)\n",
    "\n",
    "    square_all = np.dot(A_array, A_array) + np.dot(B_array, B_array)\n",
    "    square_diag = np.dot(A_diag, A_diag) + np.dot(B_diag, B_diag)\n",
    "\n",
    "    off = square_all - square_diag\n",
    "\n",
    "    return off\n",
    "\n",
    "def create_M_ij(A,B,i,j):\n",
    "    a_ii = A[i,i]\n",
    "    a_c_ii = np.conjugate(A[i,i])\n",
    "    a_ij = A[i,j]\n",
    "    a_c_ij = np.conjugate(A[i,j])\n",
    "    a_ji = A[j,i]\n",
    "    a_c_ji = np.conjugate(A[j,i])\n",
    "    a_jj = A[j,j]\n",
    "    a_c_jj = np.conjugate(A[j,j])\n",
    "\n",
    "    b_ii = B[i,i]\n",
    "    b_c_ii = np.conjugate(B[i,i])\n",
    "    b_ij = B[i,j]\n",
    "    b_c_ij = np.conjugate(B[i,j])\n",
    "    b_ji = B[j,i]\n",
    "    b_c_ji = np.conjugate(B[j,i])\n",
    "    b_jj = B[j,j]\n",
    "    b_c_jj = np.conjugate(B[j,j])\n",
    "\n",
    "    m_21 = (a_c_ii -a_c_jj)/np.sqrt(2)\n",
    "    m_22 = (a_ii - a_jj)/np.sqrt(2)\n",
    "    m_23 = (b_c_ii - b_c_jj)/np.sqrt(2)\n",
    "    m_24 = (b_ii - b_jj)/np.sqrt(2)\n",
    "\n",
    "    m_1 = np.array([a_c_ij, a_ji, b_c_ij, b_ji])\n",
    "    m_2 = np.array([m_21, m_22, m_23, m_24])\n",
    "    m_3 = np.array([(-1*a_c_ji),(-1*a_ij),(-1*b_c_ji),(-1*b_ij)])\n",
    "\n",
    "    M = np.matrix([m_1, m_2, m_3])\n",
    "    M = np.transpose(M)\n",
    "    \n",
    "    return M\n",
    "\n",
    "def create_e_vector(n, pos):\n",
    "    e_vector = []\n",
    "    \n",
    "    for k in range(n):\n",
    "        entry = [0]\n",
    "        if k == pos:\n",
    "            entry = [1]\n",
    "       \n",
    "        e_vector.append(entry)\n",
    "    \n",
    "    e_vector = np.array(e_vector)\n",
    "    return e_vector\n",
    "\n",
    "def create_Rij(n, i, j, sols):\n",
    "    sols = sols.x\n",
    "    identity = np.identity(n)\n",
    "\n",
    "    theta = sols[0]\n",
    "    phi = sols[1]\n",
    "\n",
    "    c = np.cos(theta)\n",
    "    c_c = np.conjugate(c)\n",
    "\n",
    "    s = np.exp(1j*phi)*np.sin(theta)\n",
    "    s_c = np.conjugate(s)\n",
    "\n",
    "    e_i = create_e_vector(n, i)\n",
    "    e_i_t = np.transpose(e_i) \n",
    "\n",
    "    e_j = create_e_vector(n, j)\n",
    "    e_j_t = np.transpose(e_j) \n",
    "\n",
    "    R = identity + (c - 1)*(e_i.dot(e_i_t)) - (s_c)*(e_i.dot(e_j_t)) + (s)*(e_j.dot(e_i_t)) + (c_c - 1)*(e_j.dot(e_j_t))\n",
    "\n",
    "    return R"
   ]
  },
  {
   "cell_type": "markdown",
   "metadata": {},
   "source": [
    "### **Optimizing Functions**"
   ]
  },
  {
   "cell_type": "code",
   "execution_count": 15,
   "metadata": {},
   "outputs": [],
   "source": [
    "def objective_function(M, x):\n",
    "    '''\n",
    "    Objective Function\n",
    "    '''\n",
    "    theta = x[0]\n",
    "    phi = x[1]\n",
    "\n",
    "    c = np.cos(theta)\n",
    "    s = np.exp(1j*phi)*np.sin(theta)\n",
    "\n",
    "    z = np.array([[np.square(c)],[np.sqrt(2)*c*s],[np.square(s)]])\n",
    "\n",
    "    return np.linalg.norm(M.dot(z))\n",
    "\n",
    "def constraint(x):\n",
    "    '''\n",
    "    Constraint\n",
    "    '''\n",
    "    theta = x[0]\n",
    "    phi = x[1]\n",
    "\n",
    "    c = np.cos(theta)\n",
    "    s = np.exp(1j*phi)*np.sin(theta)\n",
    "\n",
    "    return np.square(abs(c)) + np.square(abs(s)) - 1\n",
    "\n",
    "def bnds():\n",
    "    '''\n",
    "    Bounds\n",
    "    '''\n",
    "    b_1 = (-1*np.pi/4, np.pi/4)\n",
    "    b_2 = (-1*np.pi, np.pi)\n",
    "\n",
    "    bounds = (b_1, b_2)\n",
    "\n",
    "    return bounds"
   ]
  },
  {
   "cell_type": "markdown",
   "metadata": {},
   "source": [
    "### **Simultaneous Diagonalization**"
   ]
  },
  {
   "cell_type": "code",
   "execution_count": 29,
   "metadata": {},
   "outputs": [
    {
     "name": "stdout",
     "output_type": "stream",
     "text": [
      "     fun: 1.210042950485334\n",
      "     jac: array([ 9.47850347e-01, -1.49011612e-08])\n",
      " message: 'Singular matrix C in LSQ subproblem'\n",
      "    nfev: 3\n",
      "     nit: 1\n",
      "    njev: 1\n",
      "  status: 6\n",
      " success: False\n",
      "       x: array([-0.78539816, -3.14159265])\n"
     ]
    },
    {
     "ename": "AttributeError",
     "evalue": "'numpy.ndarray' object has no attribute 'H'",
     "output_type": "error",
     "traceback": [
      "\u001b[0;31m---------------------------------------------------------------------------\u001b[0m",
      "\u001b[0;31mAttributeError\u001b[0m                            Traceback (most recent call last)",
      "Cell \u001b[0;32mIn[29], line 30\u001b[0m\n\u001b[1;32m     28\u001b[0m \u001b[39mprint\u001b[39m(sols)\n\u001b[1;32m     29\u001b[0m R \u001b[39m=\u001b[39m create_Rij(n, i, j, sols)\n\u001b[0;32m---> 30\u001b[0m R_H \u001b[39m=\u001b[39m R\u001b[39m.\u001b[39;49mH\n\u001b[1;32m     31\u001b[0m Q \u001b[39m=\u001b[39m Q\u001b[39m@R\u001b[39m\n\u001b[1;32m     32\u001b[0m A \u001b[39m=\u001b[39m R_H \u001b[39m@A\u001b[39m\u001b[39m@R\u001b[39m\n",
      "\u001b[0;31mAttributeError\u001b[0m: 'numpy.ndarray' object has no attribute 'H'"
     ]
    }
   ],
   "source": [
    "epsilon = 0.01\n",
    "matrix = normal_matrix(3)\n",
    "x_0 = (-1*np.pi/4, -1*np.pi)\n",
    "\n",
    "A = matrix[0]\n",
    "B = matrix[1]\n",
    "\n",
    "\n",
    "n = A.shape[0]\n",
    "Q = np.identity(n)\n",
    "\n",
    "A_norm = np.linalg.norm(A)\n",
    "B_norm = np.linalg.norm(B)\n",
    "\n",
    "off_two = off_2(A, B)\n",
    "epsilon_norm = epsilon*(A_norm + B_norm)\n",
    "\n",
    "bounds = bnds()\n",
    "constraints = {'type':'eq', 'fun':constraint}\n",
    "cons = [constraints]\n",
    "\n",
    "while off_two > epsilon_norm:\n",
    "    for i in range(0, n):\n",
    "        for j in range(i+1, n):\n",
    "            M = create_M_ij(A,B,i,j)\n",
    "            objective = partial(objective_function, M)\n",
    "            sols = minimize(objective,x_0, method='SLSQP', bounds=bounds, constraints=cons)\n",
    "            print(sols)\n",
    "            R = create_Rij(n, i, j, sols)\n",
    "            R = np.asmatrix(R)\n",
    "            R_H = R.H\n",
    "            Q = Q@R\n",
    "            A = R_H @A@R\n",
    "            B = R_H @B@R\n",
    "\n",
    "            A_norm = np.linalg.norm(A)\n",
    "            B_norm = np.linalg.norm(B)\n",
    "\n",
    "            off_two = off_2(A, B)\n",
    "            epsilon_norm = epsilon*(A_norm + B_norm)\n",
    "\n"
   ]
  }
 ],
 "metadata": {
  "kernelspec": {
   "display_name": "Python 3.8.10 ('venv': venv)",
   "language": "python",
   "name": "python3"
  },
  "language_info": {
   "codemirror_mode": {
    "name": "ipython",
    "version": 3
   },
   "file_extension": ".py",
   "mimetype": "text/x-python",
   "name": "python",
   "nbconvert_exporter": "python",
   "pygments_lexer": "ipython3",
   "version": "3.8.10"
  },
  "orig_nbformat": 4,
  "vscode": {
   "interpreter": {
    "hash": "9a3588c4440bdac35f4ef227982a186f5524a05f0b3eca91155ed256132b237b"
   }
  }
 },
 "nbformat": 4,
 "nbformat_minor": 2
}
