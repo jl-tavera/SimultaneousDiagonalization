{
 "cells": [
  {
   "cell_type": "markdown",
   "metadata": {},
   "source": [
    "# **NUMERICAL METHODS FOR SIMULTANEOUS DIAGONALIZATION**"
   ]
  },
  {
   "cell_type": "markdown",
   "metadata": {},
   "source": [
    "Algorithm from Bunse-Gerstner, A., Byers, R., & Mehrmann, V. (1993). Numerical Methods for Simultaneous Diagonalization. SIAM Journal on Matrix Analysis and Applications, 14(4), 927–949. doi:10.1137/0614062 "
   ]
  },
  {
   "cell_type": "markdown",
   "metadata": {},
   "source": [
    "### **Libraries**"
   ]
  },
  {
   "cell_type": "code",
   "execution_count": null,
   "metadata": {},
   "outputs": [],
   "source": [
    "import numpy as np \n",
    "from scipy.stats import ortho_group\n",
    "from scipy.optimize import minimize"
   ]
  },
  {
   "cell_type": "markdown",
   "metadata": {},
   "source": [
    "### **Matrix Functions**"
   ]
  },
  {
   "cell_type": "code",
   "execution_count": null,
   "metadata": {},
   "outputs": [],
   "source": [
    "\n",
    "def normal_matrix(n):\n",
    "    '''\n",
    "    By generating a random orthonormal matrix and two random diagonal\n",
    "    matrix creates two normal matrix that commute\n",
    "    '''\n",
    "    Q = ortho_group.rvs(dim = n)\n",
    "    Q_transpose = np.transpose(Q)\n",
    "\n",
    "    vector_A = np.random.choice([-1,1],n)\n",
    "    vector_B = np.random.choice([-1,1],n)\n",
    "   \n",
    "    diag_A = np.diag(vector_A)\n",
    "    diag_B = np.diag(vector_B)\n",
    "\n",
    "    A = Q @ diag_A @ Q_transpose\n",
    "    B = Q @ diag_B @ Q_transpose\n",
    "\n",
    "    return A, B, Q"
   ]
  },
  {
   "cell_type": "markdown",
   "metadata": {},
   "source": [
    "### **Algorithm Functions**"
   ]
  },
  {
   "cell_type": "code",
   "execution_count": null,
   "metadata": {},
   "outputs": [],
   "source": [
    "def off_2(A, B):\n",
    "    A_array = np.ravel(A)\n",
    "    A_diag = np.diag(A)\n",
    "    \n",
    "    B_array = np.ravel(B)\n",
    "    B_diag = np.diag(B)\n",
    "\n",
    "    square_all = np.dot(A_array, A_array) + np.dot(B_array, B_array)\n",
    "    square_diag = np.dot(A_diag, A_diag) + np.dot(B_diag, B_diag)\n",
    "\n",
    "    off = square_all - square_diag\n",
    "\n",
    "    return off\n",
    "\n",
    "def create_M_ij(A,B,i,j):\n",
    "    a_ii = A[i,i]\n",
    "    a_c_ii = np.conjugate(A[i,i])\n",
    "    a_ij = A[i,j]\n",
    "    a_c_ij = np.conjugate(A[i,j])\n",
    "    a_ji = A[j,i]\n",
    "    a_c_ji = np.conjugate(A[j,i])\n",
    "    a_jj = A[j,j]\n",
    "    a_c_jj = np.conjugate(A[j,j])\n",
    "\n",
    "    b_ii = B[i,i]\n",
    "    b_c_ii = np.conjugate(B[i,i])\n",
    "    b_ij = B[i,j]\n",
    "    b_c_ij = np.conjugate(B[i,j])\n",
    "    b_ji = B[j,i]\n",
    "    b_c_ji = np.conjugate(B[j,i])\n",
    "    b_jj = B[j,j]\n",
    "    b_c_jj = np.conjugate(B[j,j])\n",
    "\n",
    "    m_21 = (a_c_ii -a_c_jj)/np.sqrt(2)\n",
    "    m_22 = (a_ii - a_jj)/np.sqrt(2)\n",
    "    m_23 = (b_c_ii - b_c_jj)/np.sqrt(2)\n",
    "    m_24 = (b_ii - b_jj)/np.sqrt(2)\n",
    "\n",
    "    m_1 = np.array([a_c_ij, a_ji, b_c_ij, b_ji])\n",
    "    m_2 = np.array([m_21, m_22, m_23, m_24])\n",
    "    m_3 = np.array([(-1*a_c_ji),(-1*a_ij),(-1*b_c_ji),(-1*b_ij)])\n",
    "\n",
    "    M = np.matrix([m_1, m_2, m_3])\n",
    "    M = np.transpose(M)\n",
    "    \n",
    "    return M"
   ]
  },
  {
   "cell_type": "markdown",
   "metadata": {},
   "source": [
    "### **Optimizing Functions**"
   ]
  },
  {
   "cell_type": "code",
   "execution_count": null,
   "metadata": {},
   "outputs": [],
   "source": [
    "def objective(M, x):\n",
    "    '''\n",
    "    Objective Function\n",
    "    '''\n",
    "    theta = x[0]\n",
    "    phi = x[1]\n",
    "\n",
    "    c = np.cos(theta)\n",
    "    s = np.exp(1j*phi)*np.sin(theta)\n",
    "\n",
    "    z = np.array([[np.square(c)],[np.sqrt(2)*c*s],[np.square(s)]])\n",
    "\n",
    "    return np.linalg.norm(M.dot(z))\n",
    "\n",
    "def constraint(x):\n",
    "    '''\n",
    "    Constraint\n",
    "    '''\n",
    "    theta = x[0]\n",
    "    phi = x[1]\n",
    "\n",
    "    c = np.cos(theta)\n",
    "    s = np.exp(1j*phi)*np.sin(theta)\n",
    "\n",
    "    cons_function = np.square(abs(c)) + np.square(abs(s)) - 1\n",
    "    constraint_1 = {'type':'eq', 'fun': cons_function}\n",
    "    constraints = [constraint_1]\n",
    "\n",
    "    return constraints\n",
    "\n",
    "def bnds():\n",
    "    '''\n",
    "    Bounds\n",
    "    '''\n",
    "    b_1 = (-1*np.pi/4, np.pi/4)\n",
    "    b_2 = (-1*np.pi, np.pi)\n",
    "\n",
    "    bounds = (b_1, b_2)\n",
    "\n",
    "    return bounds"
   ]
  }
 ],
 "metadata": {
  "kernelspec": {
   "display_name": "Python 3.8.10 ('venv': venv)",
   "language": "python",
   "name": "python3"
  },
  "language_info": {
   "name": "python",
   "version": "3.8.10"
  },
  "orig_nbformat": 4,
  "vscode": {
   "interpreter": {
    "hash": "9a3588c4440bdac35f4ef227982a186f5524a05f0b3eca91155ed256132b237b"
   }
  }
 },
 "nbformat": 4,
 "nbformat_minor": 2
}
